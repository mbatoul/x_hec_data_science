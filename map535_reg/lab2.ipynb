{
 "cells": [
  {
   "cell_type": "markdown",
   "metadata": {},
   "source": [
    "# Objective of the lab\n",
    "\n",
    "- Formulate in clear and concise sentences your hypothesis\n",
    "\n",
    "- Reasoning and motivation for any statistical analysis you will implement in Python and interpretations of the Python outputs\n",
    "\n",
    "- You will present your analysis in a python notebook that will contain:\n",
    "    - Reproducible codes\n",
    "    - All necessary graphs and outputs and your complete reasoning. All figures should be clearly labeled and readable."
   ]
  },
  {
   "cell_type": "code",
   "execution_count": 38,
   "metadata": {},
   "outputs": [],
   "source": [
    "import pandas as pd\n",
    "import seaborn as sns\n",
    "import matplotlib.pyplot as plt\n",
    "import numpy as np\n",
    "from patsy import dmatrices,dmatrix\n",
    "import statsmodels.api as sm\n",
    "\n",
    "sns.set_theme(palette='colorblind')"
   ]
  },
  {
   "cell_type": "code",
   "execution_count": 7,
   "metadata": {},
   "outputs": [],
   "source": [
    "df = pd.read_csv('lab2_bea-2006.csv')"
   ]
  },
  {
   "cell_type": "code",
   "execution_count": 6,
   "metadata": {},
   "outputs": [
    {
     "data": {
      "text/html": [
       "<div>\n",
       "<style scoped>\n",
       "    .dataframe tbody tr th:only-of-type {\n",
       "        vertical-align: middle;\n",
       "    }\n",
       "\n",
       "    .dataframe tbody tr th {\n",
       "        vertical-align: top;\n",
       "    }\n",
       "\n",
       "    .dataframe thead th {\n",
       "        text-align: right;\n",
       "    }\n",
       "</style>\n",
       "<table border=\"1\" class=\"dataframe\">\n",
       "  <thead>\n",
       "    <tr style=\"text-align: right;\">\n",
       "      <th></th>\n",
       "      <th>pcgmp</th>\n",
       "      <th>pop</th>\n",
       "      <th>finance</th>\n",
       "      <th>prof.tech</th>\n",
       "      <th>ict</th>\n",
       "      <th>management</th>\n",
       "    </tr>\n",
       "    <tr>\n",
       "      <th>MSA</th>\n",
       "      <th></th>\n",
       "      <th></th>\n",
       "      <th></th>\n",
       "      <th></th>\n",
       "      <th></th>\n",
       "      <th></th>\n",
       "    </tr>\n",
       "  </thead>\n",
       "  <tbody>\n",
       "    <tr>\n",
       "      <th>Abilene, TX</th>\n",
       "      <td>24490</td>\n",
       "      <td>158700.0</td>\n",
       "      <td>0.09750</td>\n",
       "      <td>NaN</td>\n",
       "      <td>0.01621</td>\n",
       "      <td>NaN</td>\n",
       "    </tr>\n",
       "    <tr>\n",
       "      <th>Akron, OH</th>\n",
       "      <td>32890</td>\n",
       "      <td>699300.0</td>\n",
       "      <td>0.12940</td>\n",
       "      <td>0.05440</td>\n",
       "      <td>NaN</td>\n",
       "      <td>0.054310</td>\n",
       "    </tr>\n",
       "    <tr>\n",
       "      <th>Albany, GA</th>\n",
       "      <td>24270</td>\n",
       "      <td>163000.0</td>\n",
       "      <td>0.08217</td>\n",
       "      <td>NaN</td>\n",
       "      <td>0.00708</td>\n",
       "      <td>NaN</td>\n",
       "    </tr>\n",
       "    <tr>\n",
       "      <th>Albany-Schenectady-Troy, NY</th>\n",
       "      <td>36840</td>\n",
       "      <td>850300.0</td>\n",
       "      <td>0.15780</td>\n",
       "      <td>0.09399</td>\n",
       "      <td>0.04511</td>\n",
       "      <td>NaN</td>\n",
       "    </tr>\n",
       "    <tr>\n",
       "      <th>Albuquerque, NM</th>\n",
       "      <td>37660</td>\n",
       "      <td>816000.0</td>\n",
       "      <td>0.15990</td>\n",
       "      <td>0.09978</td>\n",
       "      <td>0.20500</td>\n",
       "      <td>0.006509</td>\n",
       "    </tr>\n",
       "  </tbody>\n",
       "</table>\n",
       "</div>"
      ],
      "text/plain": [
       "                             pcgmp       pop  finance  prof.tech      ict  \\\n",
       "MSA                                                                         \n",
       "Abilene, TX                  24490  158700.0  0.09750        NaN  0.01621   \n",
       "Akron, OH                    32890  699300.0  0.12940    0.05440      NaN   \n",
       "Albany, GA                   24270  163000.0  0.08217        NaN  0.00708   \n",
       "Albany-Schenectady-Troy, NY  36840  850300.0  0.15780    0.09399  0.04511   \n",
       "Albuquerque, NM              37660  816000.0  0.15990    0.09978  0.20500   \n",
       "\n",
       "                             management  \n",
       "MSA                                      \n",
       "Abilene, TX                         NaN  \n",
       "Akron, OH                      0.054310  \n",
       "Albany, GA                          NaN  \n",
       "Albany-Schenectady-Troy, NY         NaN  \n",
       "Albuquerque, NM                0.006509  "
      ]
     },
     "execution_count": 6,
     "metadata": {},
     "output_type": "execute_result"
    }
   ],
   "source": [
    "df = df.set_index('MSA', drop=True)\n",
    "df.head()"
   ]
  },
  {
   "cell_type": "markdown",
   "metadata": {},
   "source": [
    "- the population\n",
    "- the total value of all goods and services produced for sale in the city that year per person (per capita gross metropolitan product\", pcgmp)\n",
    "- the share of economic output coming from four selected industries"
   ]
  },
  {
   "cell_type": "code",
   "execution_count": 8,
   "metadata": {},
   "outputs": [
    {
     "data": {
      "text/html": [
       "<div>\n",
       "<style scoped>\n",
       "    .dataframe tbody tr th:only-of-type {\n",
       "        vertical-align: middle;\n",
       "    }\n",
       "\n",
       "    .dataframe tbody tr th {\n",
       "        vertical-align: top;\n",
       "    }\n",
       "\n",
       "    .dataframe thead th {\n",
       "        text-align: right;\n",
       "    }\n",
       "</style>\n",
       "<table border=\"1\" class=\"dataframe\">\n",
       "  <thead>\n",
       "    <tr style=\"text-align: right;\">\n",
       "      <th></th>\n",
       "      <th>pcgmp</th>\n",
       "      <th>pop</th>\n",
       "      <th>finance</th>\n",
       "      <th>prof.tech</th>\n",
       "      <th>ict</th>\n",
       "      <th>management</th>\n",
       "    </tr>\n",
       "  </thead>\n",
       "  <tbody>\n",
       "    <tr>\n",
       "      <th>count</th>\n",
       "      <td>366.000000</td>\n",
       "      <td>3.660000e+02</td>\n",
       "      <td>354.000000</td>\n",
       "      <td>254.000000</td>\n",
       "      <td>290.000000</td>\n",
       "      <td>209.000000</td>\n",
       "    </tr>\n",
       "    <tr>\n",
       "      <th>mean</th>\n",
       "      <td>32922.759563</td>\n",
       "      <td>6.808977e+05</td>\n",
       "      <td>0.150825</td>\n",
       "      <td>0.049051</td>\n",
       "      <td>0.039100</td>\n",
       "      <td>0.009083</td>\n",
       "    </tr>\n",
       "    <tr>\n",
       "      <th>std</th>\n",
       "      <td>9219.907216</td>\n",
       "      <td>1.554965e+06</td>\n",
       "      <td>0.061775</td>\n",
       "      <td>0.028238</td>\n",
       "      <td>0.058392</td>\n",
       "      <td>0.008797</td>\n",
       "    </tr>\n",
       "    <tr>\n",
       "      <th>min</th>\n",
       "      <td>14920.000000</td>\n",
       "      <td>5.498000e+04</td>\n",
       "      <td>0.038450</td>\n",
       "      <td>0.014740</td>\n",
       "      <td>0.003490</td>\n",
       "      <td>0.000416</td>\n",
       "    </tr>\n",
       "    <tr>\n",
       "      <th>25%</th>\n",
       "      <td>26532.500000</td>\n",
       "      <td>1.356250e+05</td>\n",
       "      <td>0.104025</td>\n",
       "      <td>0.029320</td>\n",
       "      <td>0.012150</td>\n",
       "      <td>0.002941</td>\n",
       "    </tr>\n",
       "    <tr>\n",
       "      <th>50%</th>\n",
       "      <td>31615.000000</td>\n",
       "      <td>2.315000e+05</td>\n",
       "      <td>0.141400</td>\n",
       "      <td>0.042125</td>\n",
       "      <td>0.022175</td>\n",
       "      <td>0.006509</td>\n",
       "    </tr>\n",
       "    <tr>\n",
       "      <th>75%</th>\n",
       "      <td>38212.500000</td>\n",
       "      <td>5.308750e+05</td>\n",
       "      <td>0.181225</td>\n",
       "      <td>0.059323</td>\n",
       "      <td>0.040722</td>\n",
       "      <td>0.011910</td>\n",
       "    </tr>\n",
       "    <tr>\n",
       "      <th>max</th>\n",
       "      <td>77860.000000</td>\n",
       "      <td>1.885000e+07</td>\n",
       "      <td>0.384800</td>\n",
       "      <td>0.190800</td>\n",
       "      <td>0.586000</td>\n",
       "      <td>0.054310</td>\n",
       "    </tr>\n",
       "  </tbody>\n",
       "</table>\n",
       "</div>"
      ],
      "text/plain": [
       "              pcgmp           pop     finance   prof.tech         ict  \\\n",
       "count    366.000000  3.660000e+02  354.000000  254.000000  290.000000   \n",
       "mean   32922.759563  6.808977e+05    0.150825    0.049051    0.039100   \n",
       "std     9219.907216  1.554965e+06    0.061775    0.028238    0.058392   \n",
       "min    14920.000000  5.498000e+04    0.038450    0.014740    0.003490   \n",
       "25%    26532.500000  1.356250e+05    0.104025    0.029320    0.012150   \n",
       "50%    31615.000000  2.315000e+05    0.141400    0.042125    0.022175   \n",
       "75%    38212.500000  5.308750e+05    0.181225    0.059323    0.040722   \n",
       "max    77860.000000  1.885000e+07    0.384800    0.190800    0.586000   \n",
       "\n",
       "       management  \n",
       "count  209.000000  \n",
       "mean     0.009083  \n",
       "std      0.008797  \n",
       "min      0.000416  \n",
       "25%      0.002941  \n",
       "50%      0.006509  \n",
       "75%      0.011910  \n",
       "max      0.054310  "
      ]
     },
     "execution_count": 8,
     "metadata": {},
     "output_type": "execute_result"
    }
   ],
   "source": [
    "df.describe()"
   ]
  },
  {
   "cell_type": "code",
   "execution_count": 19,
   "metadata": {},
   "outputs": [
    {
     "data": {
      "text/plain": [
       "<matplotlib.axes._subplots.AxesSubplot at 0x7fd5bc3000d0>"
      ]
     },
     "execution_count": 19,
     "metadata": {},
     "output_type": "execute_result"
    },
    {
     "data": {
      "image/png": "[encoded data removed]",
      "text/plain": [
       "<Figure size 432x288 with 1 Axes>"
      ]
     },
     "metadata": {},
     "output_type": "display_data"
    }
   ],
   "source": [
    "sns.histplot(np.log(df['pop']), bins=50)"
   ]
  },
  {
   "cell_type": "code",
   "execution_count": 20,
   "metadata": {},
   "outputs": [
    {
     "data": {
      "text/html": [
       "<div>\n",
       "<style scoped>\n",
       "    .dataframe tbody tr th:only-of-type {\n",
       "        vertical-align: middle;\n",
       "    }\n",
       "\n",
       "    .dataframe tbody tr th {\n",
       "        vertical-align: top;\n",
       "    }\n",
       "\n",
       "    .dataframe thead th {\n",
       "        text-align: right;\n",
       "    }\n",
       "</style>\n",
       "<table border=\"1\" class=\"dataframe\">\n",
       "  <thead>\n",
       "    <tr style=\"text-align: right;\">\n",
       "      <th></th>\n",
       "      <th>MSA</th>\n",
       "      <th>pcgmp</th>\n",
       "      <th>pop</th>\n",
       "      <th>finance</th>\n",
       "      <th>prof.tech</th>\n",
       "      <th>ict</th>\n",
       "      <th>management</th>\n",
       "    </tr>\n",
       "  </thead>\n",
       "  <tbody>\n",
       "    <tr>\n",
       "      <th>237</th>\n",
       "      <td>New York-Northern New Jersey-Long Island, NY-N...</td>\n",
       "      <td>54050</td>\n",
       "      <td>18850000.0</td>\n",
       "      <td>0.3314</td>\n",
       "      <td>0.09471</td>\n",
       "      <td>0.04795</td>\n",
       "      <td>NaN</td>\n",
       "    </tr>\n",
       "  </tbody>\n",
       "</table>\n",
       "</div>"
      ],
      "text/plain": [
       "                                                   MSA  pcgmp         pop  \\\n",
       "237  New York-Northern New Jersey-Long Island, NY-N...  54050  18850000.0   \n",
       "\n",
       "     finance  prof.tech      ict  management  \n",
       "237   0.3314    0.09471  0.04795         NaN  "
      ]
     },
     "execution_count": 20,
     "metadata": {},
     "output_type": "execute_result"
    }
   ],
   "source": [
    "df[df['pop'] == df['pop'].max()]"
   ]
  },
  {
   "cell_type": "markdown",
   "metadata": {},
   "source": [
    "The distribution of city (metro area) populations has a highly positive skewness, with the New York-Northern New Jersey-Long Island area having the highest documented population. Plotting the distribution on the log scale (low panel) allows for a more informative inspection."
   ]
  },
  {
   "cell_type": "code",
   "execution_count": 25,
   "metadata": {},
   "outputs": [
    {
     "data": {
      "text/plain": [
       "<matplotlib.axes._subplots.AxesSubplot at 0x7fd5bc1a7490>"
      ]
     },
     "execution_count": 25,
     "metadata": {},
     "output_type": "execute_result"
    },
    {
     "data": {
      "image/png": "[encoded data removed]",
      "text/plain": [
       "<Figure size 432x288 with 1 Axes>"
      ]
     },
     "metadata": {},
     "output_type": "display_data"
    }
   ],
   "source": [
    "sns.boxplot(x=df['pcgmp'])"
   ]
  },
  {
   "cell_type": "code",
   "execution_count": 23,
   "metadata": {},
   "outputs": [
    {
     "data": {
      "text/html": [
       "<div>\n",
       "<style scoped>\n",
       "    .dataframe tbody tr th:only-of-type {\n",
       "        vertical-align: middle;\n",
       "    }\n",
       "\n",
       "    .dataframe tbody tr th {\n",
       "        vertical-align: top;\n",
       "    }\n",
       "\n",
       "    .dataframe thead th {\n",
       "        text-align: right;\n",
       "    }\n",
       "</style>\n",
       "<table border=\"1\" class=\"dataframe\">\n",
       "  <thead>\n",
       "    <tr style=\"text-align: right;\">\n",
       "      <th></th>\n",
       "      <th>MSA</th>\n",
       "      <th>pcgmp</th>\n",
       "      <th>pop</th>\n",
       "      <th>finance</th>\n",
       "      <th>prof.tech</th>\n",
       "      <th>ict</th>\n",
       "      <th>management</th>\n",
       "    </tr>\n",
       "  </thead>\n",
       "  <tbody>\n",
       "    <tr>\n",
       "      <th>46</th>\n",
       "      <td>Bridgeport-Stamford-Norwalk, CT</td>\n",
       "      <td>77860</td>\n",
       "      <td>890500.0</td>\n",
       "      <td>0.3791</td>\n",
       "      <td>0.08485</td>\n",
       "      <td>NaN</td>\n",
       "      <td>0.04285</td>\n",
       "    </tr>\n",
       "  </tbody>\n",
       "</table>\n",
       "</div>"
      ],
      "text/plain": [
       "                                MSA  pcgmp       pop  finance  prof.tech  ict  \\\n",
       "46  Bridgeport-Stamford-Norwalk, CT  77860  890500.0   0.3791    0.08485  NaN   \n",
       "\n",
       "    management  \n",
       "46     0.04285  "
      ]
     },
     "execution_count": 23,
     "metadata": {},
     "output_type": "execute_result"
    }
   ],
   "source": [
    "df[df['pcgmp'] == df['pcgmp'].max()]"
   ]
  },
  {
   "cell_type": "markdown",
   "metadata": {},
   "source": [
    "Similar to population, the distribution of per-capita GMP has a positive skewness. The mean per-capita GMP over all 366 cities is approximately  33,000  per person-year, while Bridgeport-Stamford-Norwalk, CT boasts a per-capita GMP of  78,000  per person-year, approximately 5 standard deviations above the mean."
   ]
  },
  {
   "cell_type": "code",
   "execution_count": 27,
   "metadata": {},
   "outputs": [
    {
     "data": {
      "text/plain": [
       "<seaborn.axisgrid.FacetGrid at 0x7fd5bca75bb0>"
      ]
     },
     "execution_count": 27,
     "metadata": {},
     "output_type": "execute_result"
    },
    {
     "data": {
      "image/png": "[encoded data removed]",
      "text/plain": [
       "<Figure size 756x504 with 1 Axes>"
      ]
     },
     "metadata": {},
     "output_type": "display_data"
    }
   ],
   "source": [
    "fig = sns.relplot(data=df, x='pop', y='pcgmp', aspect=1.5, height=7)\n",
    "fig.set(xscale='log')"
   ]
  },
  {
   "cell_type": "markdown",
   "metadata": {},
   "source": [
    "Per-capita GMP and population have a positive association. This trend is most apparent on the log scale."
   ]
  },
  {
   "cell_type": "code",
   "execution_count": 36,
   "metadata": {},
   "outputs": [
    {
     "name": "stdout",
     "output_type": "stream",
     "text": [
      "b0_hat: 31273.066, b1_hat: 0.002\n"
     ]
    }
   ],
   "source": [
    "X, y = df['pop'], df['pcgmp']\n",
    "\n",
    "b1_hat = np.cov(X, y)[0, 1] / np.var(X)\n",
    "b0_hat = np.mean(y) - b1_hat * np.mean(X)\n",
    "\n",
    "print('b0_hat: %.3f, b1_hat: %.3f' % (b0_hat, b1_hat))"
   ]
  },
  {
   "cell_type": "code",
   "execution_count": 40,
   "metadata": {},
   "outputs": [
    {
     "data": {
      "text/html": [
       "<table class=\"simpletable\">\n",
       "<caption>OLS Regression Results</caption>\n",
       "<tr>\n",
       "  <th>Dep. Variable:</th>          <td>pcgmp</td>      <th>  R-squared:         </th> <td>   0.166</td>\n",
       "</tr>\n",
       "<tr>\n",
       "  <th>Model:</th>                   <td>OLS</td>       <th>  Adj. R-squared:    </th> <td>   0.164</td>\n",
       "</tr>\n",
       "<tr>\n",
       "  <th>Method:</th>             <td>Least Squares</td>  <th>  F-statistic:       </th> <td>   72.48</td>\n",
       "</tr>\n",
       "<tr>\n",
       "  <th>Date:</th>             <td>Sun, 29 Nov 2020</td> <th>  Prob (F-statistic):</th> <td>4.49e-16</td>\n",
       "</tr>\n",
       "<tr>\n",
       "  <th>Time:</th>                 <td>11:33:36</td>     <th>  Log-Likelihood:    </th> <td> -3826.9</td>\n",
       "</tr>\n",
       "<tr>\n",
       "  <th>No. Observations:</th>      <td>   366</td>      <th>  AIC:               </th> <td>   7658.</td>\n",
       "</tr>\n",
       "<tr>\n",
       "  <th>Df Residuals:</th>          <td>   364</td>      <th>  BIC:               </th> <td>   7666.</td>\n",
       "</tr>\n",
       "<tr>\n",
       "  <th>Df Model:</th>              <td>     1</td>      <th>                     </th>     <td> </td>   \n",
       "</tr>\n",
       "<tr>\n",
       "  <th>Covariance Type:</th>      <td>nonrobust</td>    <th>                     </th>     <td> </td>   \n",
       "</tr>\n",
       "</table>\n",
       "<table class=\"simpletable\">\n",
       "<tr>\n",
       "      <td></td>         <th>coef</th>     <th>std err</th>      <th>t</th>      <th>P>|t|</th>  <th>[0.025</th>    <th>0.975]</th>  \n",
       "</tr>\n",
       "<tr>\n",
       "  <th>Intercept</th> <td> 3.128e+04</td> <td>  481.213</td> <td>   64.997</td> <td> 0.000</td> <td> 3.03e+04</td> <td> 3.22e+04</td>\n",
       "</tr>\n",
       "<tr>\n",
       "  <th>pop</th>       <td>    0.0024</td> <td>    0.000</td> <td>    8.514</td> <td> 0.000</td> <td>    0.002</td> <td>    0.003</td>\n",
       "</tr>\n",
       "</table>\n",
       "<table class=\"simpletable\">\n",
       "<tr>\n",
       "  <th>Omnibus:</th>       <td>86.720</td> <th>  Durbin-Watson:     </th> <td>   1.880</td>\n",
       "</tr>\n",
       "<tr>\n",
       "  <th>Prob(Omnibus):</th> <td> 0.000</td> <th>  Jarque-Bera (JB):  </th> <td> 242.419</td>\n",
       "</tr>\n",
       "<tr>\n",
       "  <th>Skew:</th>          <td> 1.100</td> <th>  Prob(JB):          </th> <td>2.29e-53</td>\n",
       "</tr>\n",
       "<tr>\n",
       "  <th>Kurtosis:</th>      <td> 6.325</td> <th>  Cond. No.          </th> <td>1.85e+06</td>\n",
       "</tr>\n",
       "</table><br/><br/>Warnings:<br/>[1] Standard Errors assume that the covariance matrix of the errors is correctly specified.<br/>[2] The condition number is large, 1.85e+06. This might indicate that there are<br/>strong multicollinearity or other numerical problems."
      ],
      "text/plain": [
       "<class 'statsmodels.iolib.summary.Summary'>\n",
       "\"\"\"\n",
       "                            OLS Regression Results                            \n",
       "==============================================================================\n",
       "Dep. Variable:                  pcgmp   R-squared:                       0.166\n",
       "Model:                            OLS   Adj. R-squared:                  0.164\n",
       "Method:                 Least Squares   F-statistic:                     72.48\n",
       "Date:                Sun, 29 Nov 2020   Prob (F-statistic):           4.49e-16\n",
       "Time:                        11:33:36   Log-Likelihood:                -3826.9\n",
       "No. Observations:                 366   AIC:                             7658.\n",
       "Df Residuals:                     364   BIC:                             7666.\n",
       "Df Model:                           1                                         \n",
       "Covariance Type:            nonrobust                                         \n",
       "==============================================================================\n",
       "                 coef    std err          t      P>|t|      [0.025      0.975]\n",
       "------------------------------------------------------------------------------\n",
       "Intercept   3.128e+04    481.213     64.997      0.000    3.03e+04    3.22e+04\n",
       "pop            0.0024      0.000      8.514      0.000       0.002       0.003\n",
       "==============================================================================\n",
       "Omnibus:                       86.720   Durbin-Watson:                   1.880\n",
       "Prob(Omnibus):                  0.000   Jarque-Bera (JB):              242.419\n",
       "Skew:                           1.100   Prob(JB):                     2.29e-53\n",
       "Kurtosis:                       6.325   Cond. No.                     1.85e+06\n",
       "==============================================================================\n",
       "\n",
       "Warnings:\n",
       "[1] Standard Errors assume that the covariance matrix of the errors is correctly specified.\n",
       "[2] The condition number is large, 1.85e+06. This might indicate that there are\n",
       "strong multicollinearity or other numerical problems.\n",
       "\"\"\""
      ]
     },
     "execution_count": 40,
     "metadata": {},
     "output_type": "execute_result"
    }
   ],
   "source": [
    "y, X = dmatrices('pcgmp ~ pop', data=df, return_type='dataframe')\n",
    "res = sm.OLS(y, X).fit()\n",
    "res.summary()"
   ]
  },
  {
   "cell_type": "code",
   "execution_count": 57,
   "metadata": {},
   "outputs": [
    {
     "data": {
      "text/plain": [
       "[<matplotlib.lines.Line2D at 0x7fd5a0486a60>]"
      ]
     },
     "execution_count": 57,
     "metadata": {},
     "output_type": "execute_result"
    },
    {
     "data": {
      "image/png": "[encoded data removed]",
      "text/plain": [
       "<Figure size 1080x1080 with 1 Axes>"
      ]
     },
     "metadata": {},
     "output_type": "display_data"
    }
   ],
   "source": [
    "fig, ax = plt.subplots(figsize=(15, 15))\n",
    "sns.scatterplot(data=df, x='pop', y='pcgmp', ax=ax)\n",
    "plt.xscale('log')\n",
    "\n",
    "x_axis = np.linspace(1e4, 1e8, 500)\n",
    "y_hat1 = b0_hat + np.log(x_axis) * b1_hat\n",
    "y_hat2 = res.params[0] + np.log(x_axis) * res.params[1]\n",
    "plt.plot(x_axis, y_hat1, c='r')\n",
    "plt.plot(x_axis, y_hat2, c='b')"
   ]
  },
  {
   "cell_type": "code",
   "execution_count": 65,
   "metadata": {},
   "outputs": [
    {
     "data": {
      "text/html": [
       "<div>\n",
       "<style scoped>\n",
       "    .dataframe tbody tr th:only-of-type {\n",
       "        vertical-align: middle;\n",
       "    }\n",
       "\n",
       "    .dataframe tbody tr th {\n",
       "        vertical-align: top;\n",
       "    }\n",
       "\n",
       "    .dataframe thead th {\n",
       "        text-align: right;\n",
       "    }\n",
       "</style>\n",
       "<table border=\"1\" class=\"dataframe\">\n",
       "  <thead>\n",
       "    <tr style=\"text-align: right;\">\n",
       "      <th></th>\n",
       "      <th>MSA</th>\n",
       "      <th>pcgmp</th>\n",
       "      <th>pop</th>\n",
       "      <th>finance</th>\n",
       "      <th>prof.tech</th>\n",
       "      <th>ict</th>\n",
       "      <th>management</th>\n",
       "    </tr>\n",
       "  </thead>\n",
       "  <tbody>\n",
       "    <tr>\n",
       "      <th>261</th>\n",
       "      <td>Pittsburgh, PA</td>\n",
       "      <td>38350</td>\n",
       "      <td>2361000.0</td>\n",
       "      <td>0.2018</td>\n",
       "      <td>0.0777</td>\n",
       "      <td>0.03434</td>\n",
       "      <td>0.02946</td>\n",
       "    </tr>\n",
       "  </tbody>\n",
       "</table>\n",
       "</div>"
      ],
      "text/plain": [
       "                MSA  pcgmp        pop  finance  prof.tech      ict  management\n",
       "261  Pittsburgh, PA  38350  2361000.0   0.2018     0.0777  0.03434     0.02946"
      ]
     },
     "execution_count": 65,
     "metadata": {},
     "output_type": "execute_result"
    }
   ],
   "source": [
    "df[df.MSA == 'Pittsburgh, PA']"
   ]
  },
  {
   "cell_type": "code",
   "execution_count": 66,
   "metadata": {},
   "outputs": [
    {
     "data": {
      "text/plain": [
       "36982.224592253006"
      ]
     },
     "execution_count": 66,
     "metadata": {},
     "output_type": "execute_result"
    }
   ],
   "source": [
    "res.fittedvalues[261]"
   ]
  },
  {
   "cell_type": "code",
   "execution_count": 67,
   "metadata": {},
   "outputs": [
    {
     "data": {
      "text/plain": [
       "1367.7754077469945"
      ]
     },
     "execution_count": 67,
     "metadata": {},
     "output_type": "execute_result"
    }
   ],
   "source": [
    "res.resid[261]"
   ]
  },
  {
   "cell_type": "code",
   "execution_count": 70,
   "metadata": {},
   "outputs": [
    {
     "data": {
      "text/plain": [
       "70697144.9229758"
      ]
     },
     "execution_count": 70,
     "metadata": {},
     "output_type": "execute_result"
    }
   ],
   "source": [
    "mse = np.mean(res.resid ** 2)\n",
    "mse"
   ]
  },
  {
   "cell_type": "code",
   "execution_count": 91,
   "metadata": {},
   "outputs": [
    {
     "data": {
      "text/plain": [
       "<seaborn.axisgrid.FacetGrid at 0x7fd5a2dbfb50>"
      ]
     },
     "execution_count": 91,
     "metadata": {},
     "output_type": "execute_result"
    },
    {
     "data": {
      "image/png": "[encoded data removed]",
      "text/plain": [
       "<Figure size 756x504 with 1 Axes>"
      ]
     },
     "metadata": {},
     "output_type": "display_data"
    }
   ],
   "source": [
    "fig = sns.relplot(data=df, x='pop', y=res.resid, height=7, aspect=1.5)\n",
    "fig.set(xscale='log')"
   ]
  },
  {
   "cell_type": "markdown",
   "metadata": {},
   "source": [
    "If the assumptions held, we would have a symmetric and homoskedastic scatter centered around 0, like on the following plot (generated Gaussian errors). More precisely, we observe that the residuals are mostly negative at low population and mostly positive at populations above $10^6$. Furthermore, we can observe several outliers which are not well-explained by the homoskedastic linear model."
   ]
  },
  {
   "cell_type": "code",
   "execution_count": 92,
   "metadata": {},
   "outputs": [
    {
     "data": {
      "text/plain": [
       "<seaborn.axisgrid.FacetGrid at 0x7fd5a61a6580>"
      ]
     },
     "execution_count": 92,
     "metadata": {},
     "output_type": "execute_result"
    },
    {
     "data": {
      "image/png": "[encoded data removed]",
      "text/plain": [
       "<Figure size 756x504 with 1 Axes>"
      ]
     },
     "metadata": {},
     "output_type": "display_data"
    }
   ],
   "source": [
    "X = np.random.uniform(size=100)\n",
    "epsilon = np.random.randn(100)\n",
    "df_test = pd.DataFrame({'X': X, 'epsilon': epsilon})\n",
    "sns.relplot(data=df_test, x='X', y='epsilon', height=7, aspect=1.5)"
   ]
  },
  {
   "cell_type": "code",
   "execution_count": 95,
   "metadata": {},
   "outputs": [
    {
     "data": {
      "text/plain": [
       "<seaborn.axisgrid.FacetGrid at 0x7fd5a79eec70>"
      ]
     },
     "execution_count": 95,
     "metadata": {},
     "output_type": "execute_result"
    },
    {
     "data": {
      "image/png": "[encoded data removed]",
      "text/plain": [
       "<Figure size 756x504 with 1 Axes>"
      ]
     },
     "metadata": {},
     "output_type": "display_data"
    }
   ],
   "source": [
    "fig = sns.relplot(data=df, x='pop', y=res.resid ** 2, height=7, aspect=1.5)\n",
    "fig.set(xscale='log')"
   ]
  },
  {
   "cell_type": "markdown",
   "metadata": {},
   "source": [
    "If the homoskedasticity assumption was verified, the squared residuals would be scattered around zero and have a constant variance over all values of population. This assumptions is clearly violated by three residuals."
   ]
  },
  {
   "cell_type": "code",
   "execution_count": 116,
   "metadata": {},
   "outputs": [
    {
     "data": {
      "text/html": [
       "<div>\n",
       "<style scoped>\n",
       "    .dataframe tbody tr th:only-of-type {\n",
       "        vertical-align: middle;\n",
       "    }\n",
       "\n",
       "    .dataframe tbody tr th {\n",
       "        vertical-align: top;\n",
       "    }\n",
       "\n",
       "    .dataframe thead th {\n",
       "        text-align: right;\n",
       "    }\n",
       "</style>\n",
       "<table border=\"1\" class=\"dataframe\">\n",
       "  <thead>\n",
       "    <tr style=\"text-align: right;\">\n",
       "      <th></th>\n",
       "      <th>MSA</th>\n",
       "      <th>pcgmp</th>\n",
       "      <th>pop</th>\n",
       "      <th>finance</th>\n",
       "      <th>prof.tech</th>\n",
       "      <th>ict</th>\n",
       "      <th>management</th>\n",
       "    </tr>\n",
       "  </thead>\n",
       "  <tbody>\n",
       "    <tr>\n",
       "      <th>61</th>\n",
       "      <td>Charlotte-Gastonia-Concord, NC-SC</td>\n",
       "      <td>63800</td>\n",
       "      <td>1580000.0</td>\n",
       "      <td>0.3848</td>\n",
       "      <td>NaN</td>\n",
       "      <td>0.04064</td>\n",
       "      <td>NaN</td>\n",
       "    </tr>\n",
       "    <tr>\n",
       "      <th>302</th>\n",
       "      <td>San Jose-Sunnyvale-Santa Clara, CA</td>\n",
       "      <td>77260</td>\n",
       "      <td>1762000.0</td>\n",
       "      <td>0.1442</td>\n",
       "      <td>0.13280</td>\n",
       "      <td>0.41150</td>\n",
       "      <td>0.006324</td>\n",
       "    </tr>\n",
       "    <tr>\n",
       "      <th>46</th>\n",
       "      <td>Bridgeport-Stamford-Norwalk, CT</td>\n",
       "      <td>77860</td>\n",
       "      <td>890500.0</td>\n",
       "      <td>0.3791</td>\n",
       "      <td>0.08485</td>\n",
       "      <td>NaN</td>\n",
       "      <td>0.042850</td>\n",
       "    </tr>\n",
       "  </tbody>\n",
       "</table>\n",
       "</div>"
      ],
      "text/plain": [
       "                                    MSA  pcgmp        pop  finance  prof.tech  \\\n",
       "61    Charlotte-Gastonia-Concord, NC-SC  63800  1580000.0   0.3848        NaN   \n",
       "302  San Jose-Sunnyvale-Santa Clara, CA  77260  1762000.0   0.1442    0.13280   \n",
       "46      Bridgeport-Stamford-Norwalk, CT  77860   890500.0   0.3791    0.08485   \n",
       "\n",
       "         ict  management  \n",
       "61   0.04064         NaN  \n",
       "302  0.41150    0.006324  \n",
       "46       NaN    0.042850  "
      ]
     },
     "execution_count": 116,
     "metadata": {},
     "output_type": "execute_result"
    }
   ],
   "source": [
    "df.iloc[(res.resid ** 2).sort_values(axis='index')[-3:].index]"
   ]
  },
  {
   "cell_type": "markdown",
   "metadata": {},
   "source": [
    "Based on this sample data, the total value of all goods and services produced for sale sale per person in a city in 2006 has a highly significant positive correlation with the population of the city. On average, a 1,000 people increase in population leads to an increase of $2.5 in per-capita GMP."
   ]
  }
 ],
 "metadata": {
  "kernelspec": {
   "display_name": "Python 3",
   "language": "python",
   "name": "python3"
  },
  "language_info": {
   "codemirror_mode": {
    "name": "ipython",
    "version": 3
   },
   "file_extension": ".py",
   "mimetype": "text/x-python",
   "name": "python",
   "nbconvert_exporter": "python",
   "pygments_lexer": "ipython3",
   "version": "3.8.3"
  }
 },
 "nbformat": 4,
 "nbformat_minor": 4
}

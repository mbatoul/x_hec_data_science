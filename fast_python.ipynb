{
 "cells": [
  {
   "cell_type": "markdown",
   "metadata": {},
   "source": [
    "# Fast computations in python\n",
    "\n",
    "Author: Mathurin Massias first.last@gmail.com\n",
    "\n",
    "Inspired from Jake Vanderplas blog post: https://jakevdp.github.io/blog/2013/06/15/numba-vs-cython-take-2/"
   ]
  },
  {
   "cell_type": "markdown",
   "metadata": {},
   "source": [
    "One of the notorious drawbacks of Python is it low speed. Due to its dynamic type checking, Python performs all kinds of checks when performing basic operations such as `a + b`; this can harm computation time. The most well-known example of slow Python computation is long for loops involving small computations, as we will observe below. \n",
    "\n",
    "In this notebook, around the example of pairwise distances computations, we introduce different ways to make Python faster."
   ]
  },
  {
   "cell_type": "markdown",
   "metadata": {},
   "source": [
    "## Setup\n",
    "\n",
    "Consider an observation matrix $X \\in \\mathbb{R}^{500 \\times 10}$ (hence, 500 observations $x_i$ living in dimension 10). \n",
    "\n",
    "In many Machine Learning tasks, in particular clustering, the matrix of pairwise distances is needed: $D =(d_{ij})_{1 \\leq i,j \\leq n}$ with \n",
    "$$d_{ij} = ||x_i - x_j||$$ \n",
    "\n",
    "The basic cost should be $\\mathcal{O}(n^2 p)$, which can quickly get high, and become the bottleneck in algorithms.\n",
    "Let us try to compute this matrix in different ways."
   ]
  },
  {
   "cell_type": "code",
   "execution_count": 1,
   "metadata": {},
   "outputs": [],
   "source": [
    "# requirements:\n",
    "# !conda install cython numpy scipy scikit-learn \n",
    "# !pip install numba"
   ]
  },
  {
   "cell_type": "code",
   "execution_count": 2,
   "metadata": {},
   "outputs": [],
   "source": [
    "import numpy as np\n",
    "np.random.seed(0)\n",
    "X = np.random.randn(500, 10)"
   ]
  },
  {
   "cell_type": "markdown",
   "metadata": {},
   "source": [
    "### Naive python"
   ]
  },
  {
   "cell_type": "code",
   "execution_count": 3,
   "metadata": {},
   "outputs": [],
   "source": [
    "import math\n",
    "\n",
    "def pairwise_python(X):\n",
    "    n_samples, n_features = X.shape\n",
    "    D = np.zeros((n_samples, n_samples))\n",
    "    for i in range(n_samples):\n",
    "        for j in range(n_samples):\n",
    "            tmp = 0\n",
    "            for k in range(n_features):\n",
    "                 tmp += (X[i, k] - X[j, k]) ** 2\n",
    "            D[i, j] = math.sqrt(tmp)\n",
    "    return D\n",
    "\n",
    "# we could be twice faster by using D[i, j] = D[j, i], but we don't."
   ]
  },
  {
   "cell_type": "markdown",
   "metadata": {},
   "source": [
    "For a precise timing (averaged over repetitions), we use the `%timeit` ipython magic as follows."
   ]
  },
  {
   "cell_type": "code",
   "execution_count": 4,
   "metadata": {},
   "outputs": [
    {
     "name": "stdout",
     "output_type": "stream",
     "text": [
      "2.53 s ± 128 ms per loop (mean ± std. dev. of 7 runs, 1 loop each)\n"
     ]
    }
   ],
   "source": [
    "%timeit pairwise_python(X)"
   ]
  },
  {
   "cell_type": "markdown",
   "metadata": {},
   "source": [
    "That is, as expected, quite slow, and we are far from the \"Big Data\" regime."
   ]
  },
  {
   "cell_type": "markdown",
   "metadata": {},
   "source": [
    "### Numba"
   ]
  },
  {
   "cell_type": "markdown",
   "metadata": {},
   "source": [
    "Next, we will compile out function Just-In-Time (jit) with `numba` a package that has known a tremendous development in the python ecosystem in the last decade, for its ease of use and the impressive speed-ups it provides. \n",
    "**If there is only one way to fast python to remember, it is this one.**"
   ]
  },
  {
   "cell_type": "code",
   "execution_count": 5,
   "metadata": {},
   "outputs": [],
   "source": [
    "from numba import jit\n",
    "\n",
    "pairwise_numba = jit(pairwise_python) # jit acts as a decorator: it takes \n",
    "# a function as input, and return another function. \n",
    "\n",
    "# An alternative (more pythonic) syntax is to put it on top of the function \n",
    "# it affects, prefixed with @, as in:\n",
    "@jit\n",
    "def a_function():\n",
    "    # your code here\n",
    "    return 0"
   ]
  },
  {
   "cell_type": "markdown",
   "metadata": {},
   "source": [
    "We call the function once so that it gets compiled, e.g. the type of each variable is inferred. Then, we will be able to call it with any arguments, provided they are of the same type as the one used when calling our function for the first time."
   ]
  },
  {
   "cell_type": "code",
   "execution_count": 6,
   "metadata": {},
   "outputs": [],
   "source": [
    "pairwise_numba(np.zeros([10, 3]));  # compilation happens"
   ]
  },
  {
   "cell_type": "code",
   "execution_count": 7,
   "metadata": {},
   "outputs": [
    {
     "name": "stdout",
     "output_type": "stream",
     "text": [
      "2.75 ms ± 212 µs per loop (mean ± std. dev. of 7 runs, 100 loops each)\n"
     ]
    }
   ],
   "source": [
    "%timeit pairwise_numba(X)"
   ]
  },
  {
   "cell_type": "markdown",
   "metadata": {},
   "source": [
    "We get a factor 1000 speedup using only a decorator! And we did not even have to to modify our original code. \n",
    "The ease of use is numba's main feature.\n",
    "\n",
    "Going beyond our naive code, numba can compile more complicated functions. For example, it supports code which contains a lot of numpy functions, and more and more are added at each release (numba is still a \"young\" project). \n",
    "\n",
    "Nevertheless, some functions must be modified before calling `@jit` upon them. For example, numba does not (currently) support the `axis` keyword of numpy functions (hopefully, it will be supported in the future; think that `np.dot` was not supported by numba a few years ago!)"
   ]
  },
  {
   "cell_type": "code",
   "execution_count": 8,
   "metadata": {},
   "outputs": [
    {
     "ename": "TypingError",
     "evalue": "Failed in nopython mode pipeline (step: nopython frontend)\nNo implementation of function Function(<function mean at 0x7f4b2c65f4c0>) found for signature:\n \n >>> mean(array(float64, 2d, C), axis=Literal[int](1))\n \nThere are 2 candidate implementations:\n  - Of which 2 did not match due to:\n  Overload in function 'Numpy_method_redirection.generic': File: numba/core/typing/npydecl.py: Line 348.\n    With argument(s): '(array(float64, 2d, C), axis=Literal[int](1))':\n   Rejected as the implementation raised a specific error:\n     TypingError: numba doesn't support kwarg for mean\n  raised from /home/mathurin/miniconda3/lib/python3.8/site-packages/numba/core/typing/npydecl.py:370\n\nDuring: resolving callee type: Function(<function mean at 0x7f4b2c65f4c0>)\nDuring: typing of call at <ipython-input-8-092ded842e28> (5)\n\n\nFile \"<ipython-input-8-092ded842e28>\", line 5:\ndef numba_issue(X):\n    return np.mean(X, axis=1)  # compute the mean of each row X \n    ^\n",
     "output_type": "error",
     "traceback": [
      "\u001b[0;31m---------------------------------------------------------------------------\u001b[0m",
      "\u001b[0;31mTypingError\u001b[0m                               Traceback (most recent call last)",
      "\u001b[0;32m<ipython-input-8-092ded842e28>\u001b[0m in \u001b[0;36m<module>\u001b[0;34m\u001b[0m\n\u001b[1;32m      5\u001b[0m     \u001b[0;32mreturn\u001b[0m \u001b[0mnp\u001b[0m\u001b[0;34m.\u001b[0m\u001b[0mmean\u001b[0m\u001b[0;34m(\u001b[0m\u001b[0mX\u001b[0m\u001b[0;34m,\u001b[0m \u001b[0maxis\u001b[0m\u001b[0;34m=\u001b[0m\u001b[0;36m1\u001b[0m\u001b[0;34m)\u001b[0m  \u001b[0;31m# compute the mean of each row X\u001b[0m\u001b[0;34m\u001b[0m\u001b[0;34m\u001b[0m\u001b[0m\n\u001b[1;32m      6\u001b[0m \u001b[0;34m\u001b[0m\u001b[0m\n\u001b[0;32m----> 7\u001b[0;31m \u001b[0mnumba_issue\u001b[0m\u001b[0;34m(\u001b[0m\u001b[0mX\u001b[0m\u001b[0;34m)\u001b[0m\u001b[0;34m\u001b[0m\u001b[0;34m\u001b[0m\u001b[0m\n\u001b[0m",
      "\u001b[0;32m~/miniconda3/lib/python3.8/site-packages/numba/core/dispatcher.py\u001b[0m in \u001b[0;36m_compile_for_args\u001b[0;34m(self, *args, **kws)\u001b[0m\n\u001b[1;32m    413\u001b[0m                 \u001b[0me\u001b[0m\u001b[0;34m.\u001b[0m\u001b[0mpatch_message\u001b[0m\u001b[0;34m(\u001b[0m\u001b[0mmsg\u001b[0m\u001b[0;34m)\u001b[0m\u001b[0;34m\u001b[0m\u001b[0;34m\u001b[0m\u001b[0m\n\u001b[1;32m    414\u001b[0m \u001b[0;34m\u001b[0m\u001b[0m\n\u001b[0;32m--> 415\u001b[0;31m             \u001b[0merror_rewrite\u001b[0m\u001b[0;34m(\u001b[0m\u001b[0me\u001b[0m\u001b[0;34m,\u001b[0m \u001b[0;34m'typing'\u001b[0m\u001b[0;34m)\u001b[0m\u001b[0;34m\u001b[0m\u001b[0;34m\u001b[0m\u001b[0m\n\u001b[0m\u001b[1;32m    416\u001b[0m         \u001b[0;32mexcept\u001b[0m \u001b[0merrors\u001b[0m\u001b[0;34m.\u001b[0m\u001b[0mUnsupportedError\u001b[0m \u001b[0;32mas\u001b[0m \u001b[0me\u001b[0m\u001b[0;34m:\u001b[0m\u001b[0;34m\u001b[0m\u001b[0;34m\u001b[0m\u001b[0m\n\u001b[1;32m    417\u001b[0m             \u001b[0;31m# Something unsupported is present in the user code, add help info\u001b[0m\u001b[0;34m\u001b[0m\u001b[0;34m\u001b[0m\u001b[0;34m\u001b[0m\u001b[0m\n",
      "\u001b[0;32m~/miniconda3/lib/python3.8/site-packages/numba/core/dispatcher.py\u001b[0m in \u001b[0;36merror_rewrite\u001b[0;34m(e, issue_type)\u001b[0m\n\u001b[1;32m    356\u001b[0m                 \u001b[0;32mraise\u001b[0m \u001b[0me\u001b[0m\u001b[0;34m\u001b[0m\u001b[0;34m\u001b[0m\u001b[0m\n\u001b[1;32m    357\u001b[0m             \u001b[0;32melse\u001b[0m\u001b[0;34m:\u001b[0m\u001b[0;34m\u001b[0m\u001b[0;34m\u001b[0m\u001b[0m\n\u001b[0;32m--> 358\u001b[0;31m                 \u001b[0mreraise\u001b[0m\u001b[0;34m(\u001b[0m\u001b[0mtype\u001b[0m\u001b[0;34m(\u001b[0m\u001b[0me\u001b[0m\u001b[0;34m)\u001b[0m\u001b[0;34m,\u001b[0m \u001b[0me\u001b[0m\u001b[0;34m,\u001b[0m \u001b[0;32mNone\u001b[0m\u001b[0;34m)\u001b[0m\u001b[0;34m\u001b[0m\u001b[0;34m\u001b[0m\u001b[0m\n\u001b[0m\u001b[1;32m    359\u001b[0m \u001b[0;34m\u001b[0m\u001b[0m\n\u001b[1;32m    360\u001b[0m         \u001b[0margtypes\u001b[0m \u001b[0;34m=\u001b[0m \u001b[0;34m[\u001b[0m\u001b[0;34m]\u001b[0m\u001b[0;34m\u001b[0m\u001b[0;34m\u001b[0m\u001b[0m\n",
      "\u001b[0;32m~/miniconda3/lib/python3.8/site-packages/numba/core/utils.py\u001b[0m in \u001b[0;36mreraise\u001b[0;34m(tp, value, tb)\u001b[0m\n\u001b[1;32m     78\u001b[0m         \u001b[0mvalue\u001b[0m \u001b[0;34m=\u001b[0m \u001b[0mtp\u001b[0m\u001b[0;34m(\u001b[0m\u001b[0;34m)\u001b[0m\u001b[0;34m\u001b[0m\u001b[0;34m\u001b[0m\u001b[0m\n\u001b[1;32m     79\u001b[0m     \u001b[0;32mif\u001b[0m \u001b[0mvalue\u001b[0m\u001b[0;34m.\u001b[0m\u001b[0m__traceback__\u001b[0m \u001b[0;32mis\u001b[0m \u001b[0;32mnot\u001b[0m \u001b[0mtb\u001b[0m\u001b[0;34m:\u001b[0m\u001b[0;34m\u001b[0m\u001b[0;34m\u001b[0m\u001b[0m\n\u001b[0;32m---> 80\u001b[0;31m         \u001b[0;32mraise\u001b[0m \u001b[0mvalue\u001b[0m\u001b[0;34m.\u001b[0m\u001b[0mwith_traceback\u001b[0m\u001b[0;34m(\u001b[0m\u001b[0mtb\u001b[0m\u001b[0;34m)\u001b[0m\u001b[0;34m\u001b[0m\u001b[0;34m\u001b[0m\u001b[0m\n\u001b[0m\u001b[1;32m     81\u001b[0m     \u001b[0;32mraise\u001b[0m \u001b[0mvalue\u001b[0m\u001b[0;34m\u001b[0m\u001b[0;34m\u001b[0m\u001b[0m\n\u001b[1;32m     82\u001b[0m \u001b[0;34m\u001b[0m\u001b[0m\n",
      "\u001b[0;31mTypingError\u001b[0m: Failed in nopython mode pipeline (step: nopython frontend)\nNo implementation of function Function(<function mean at 0x7f4b2c65f4c0>) found for signature:\n \n >>> mean(array(float64, 2d, C), axis=Literal[int](1))\n \nThere are 2 candidate implementations:\n  - Of which 2 did not match due to:\n  Overload in function 'Numpy_method_redirection.generic': File: numba/core/typing/npydecl.py: Line 348.\n    With argument(s): '(array(float64, 2d, C), axis=Literal[int](1))':\n   Rejected as the implementation raised a specific error:\n     TypingError: numba doesn't support kwarg for mean\n  raised from /home/mathurin/miniconda3/lib/python3.8/site-packages/numba/core/typing/npydecl.py:370\n\nDuring: resolving callee type: Function(<function mean at 0x7f4b2c65f4c0>)\nDuring: typing of call at <ipython-input-8-092ded842e28> (5)\n\n\nFile \"<ipython-input-8-092ded842e28>\", line 5:\ndef numba_issue(X):\n    return np.mean(X, axis=1)  # compute the mean of each row X \n    ^\n"
     ]
    }
   ],
   "source": [
    "# this does not work. IRL it would not make sense to jit this function, as there is \n",
    "# no code to optimize (numpy does everything); it is only for pedagogical purposes\n",
    "@jit(nopython=True)\n",
    "def numba_issue(X):\n",
    "    return np.mean(X, axis=1)  # compute the mean of each row X \n",
    "\n",
    "numba_issue(X)"
   ]
  },
  {
   "cell_type": "markdown",
   "metadata": {},
   "source": [
    "Note that in the cell above, we use `jit(nopython=True)`, to force an error when jit does no know how to handle some code. An equivalent is to replace the `jit` decorator by `njit` (which is imported as: `from numba import njit`).\n",
    "\n",
    "If we had used `jit`, we would have obtained a warning, but the code would have been executed using non compiled python.\n",
    "\n",
    "Often times, one must rewrite a bit its original function to make it numba compatible. In the example above, a fix is as follows."
   ]
  },
  {
   "cell_type": "code",
   "execution_count": 9,
   "metadata": {},
   "outputs": [
    {
     "data": {
      "text/plain": [
       "array([-0.55033805,  0.63196909, -0.6423911 , -0.47853447,  0.33903917])"
      ]
     },
     "execution_count": 9,
     "metadata": {},
     "output_type": "execute_result"
    }
   ],
   "source": [
    "# one must resort to more 'naive' code (which will still be lightning fast)\n",
    "@jit\n",
    "def numba_fixed(X):\n",
    "    results = np.zeros(X.shape[0])\n",
    "    for i in range(X.shape[0]):\n",
    "        results[i] = np.mean(X[i, :])  # avoid using the axis keyword\n",
    "    return results\n",
    "\n",
    "numba_fixed(np.random.randn(5, 6))"
   ]
  },
  {
   "cell_type": "markdown",
   "metadata": {},
   "source": [
    "The lab could stop here, but numba compilation process has a lot of dependencies (usually shipped with anaconda), which may make it not suited for all apllications. We also need to check that there do not exist faster alternatives.\n",
    "\n",
    "As a first candidate, numpy is usually quite fast at performing vectorized operations on its arrays, and complicated operations can be implemented using broadcasting."
   ]
  },
  {
   "cell_type": "markdown",
   "metadata": {},
   "source": [
    "### numpy"
   ]
  },
  {
   "cell_type": "code",
   "execution_count": 10,
   "metadata": {},
   "outputs": [],
   "source": [
    "def pairwise_numpy(X):\n",
    "    return np.sqrt(np.sum((X[:, None, :] - X) ** 2, axis=-1))"
   ]
  },
  {
   "cell_type": "code",
   "execution_count": 11,
   "metadata": {},
   "outputs": [
    {
     "data": {
      "text/plain": [
       "True"
      ]
     },
     "execution_count": 11,
     "metadata": {},
     "output_type": "execute_result"
    }
   ],
   "source": [
    "# check that we did not mess up the computation\n",
    "np.allclose(pairwise_numpy(X), pairwise_numba(X))"
   ]
  },
  {
   "cell_type": "code",
   "execution_count": 12,
   "metadata": {},
   "outputs": [
    {
     "name": "stdout",
     "output_type": "stream",
     "text": [
      "15.8 ms ± 514 µs per loop (mean ± std. dev. of 7 runs, 100 loops each)\n"
     ]
    }
   ],
   "source": [
    "%timeit pairwise_numpy(X)"
   ]
  },
  {
   "cell_type": "markdown",
   "metadata": {},
   "source": [
    "So, the syntax used broadcasting which is a powerful but not \"obvious\" tool, and we are 10 times slower than numba, not to mention the large memory requirement."
   ]
  },
  {
   "cell_type": "markdown",
   "metadata": {},
   "source": [
    "### sklearn, scipy"
   ]
  },
  {
   "cell_type": "markdown",
   "metadata": {},
   "source": [
    "Computing distances is a frequent task in scientific python, hence one can expect to find functions accomplishing this task in popular packages, which have done the optimization for us. \n",
    "We benchmark the implementations of `sklearn` and `scipy`, which rely on efficient Fortran linear algebra routines"
   ]
  },
  {
   "cell_type": "code",
   "execution_count": null,
   "metadata": {},
   "outputs": [],
   "source": [
    "from scipy.spatial.distance import cdist\n",
    "%timeit cdist(X, X)"
   ]
  },
  {
   "cell_type": "markdown",
   "metadata": {},
   "source": [
    "It is faster than numba (measurements may vary on different architectures and for different sizes of $X$), but numba is more flexible: we can implement our own functions. scipy has the benfit of being reliable it is tested, documented, contrary to code we may write ourselves.\n",
    "\n",
    "sklearn also has a way to compute distances:"
   ]
  },
  {
   "cell_type": "code",
   "execution_count": null,
   "metadata": {},
   "outputs": [],
   "source": [
    "from sklearn.metrics import pairwise_distances\n",
    "%timeit pairwise_distances(X)"
   ]
  },
  {
   "cell_type": "markdown",
   "metadata": {},
   "source": [
    "The time taken is in the same range of values, altough on the higher side this time. Difference in implementations may be: kind of distance supported (Euclidean distance, Manhattan distance, etc); support of sparse data $X$, support centering and normalization, etc."
   ]
  },
  {
   "cell_type": "markdown",
   "metadata": {},
   "source": [
    "With sklearn and scipy, we get fast code, but we cannot customize code. sklearn relies on Cython, a hybrid of C and python, which allows to write code to be compiled in C or C++, retaining the syntax of python, and allowing eventual calls to python. We can even call the extremely fast BLAS and LAPACK Fortran routines (used to perform vector/vector, matrix/vector, matrix/matrix computations, as well as typical linear algebras such as SVD decomposition.\n",
    "\n",
    "Personal comment: Cython is nice and powerful, but it has a **high entry cost**, and is hard to debug. "
   ]
  },
  {
   "cell_type": "code",
   "execution_count": null,
   "metadata": {},
   "outputs": [],
   "source": [
    "# this is an ipython magic to compile cython code inside the notebook.\n",
    "# Cython compilation is more complicated outside of notebook, and usually\n",
    "# delegated to the setup.py of the python package using it.\n",
    "%load_ext cython"
   ]
  },
  {
   "cell_type": "code",
   "execution_count": null,
   "metadata": {},
   "outputs": [],
   "source": [
    "%%cython\n",
    "# note: cimport, not import\n",
    "cimport cython\n",
    "import numpy as np\n",
    "from libc.math cimport sqrt\n",
    "\n",
    "# note the particular syntax, in particular variable\n",
    "# types are declared\n",
    "@cython.boundscheck(False)\n",
    "@cython.wraparound(False)\n",
    "cpdef double[:, :] pairwise_cython(double[:, :] X):\n",
    "    cdef int n_samples = X.shape[0]\n",
    "    cdef int n_features = X.shape[1]\n",
    "    cdef double[:, :] D = np.empty((n_samples, n_samples))\n",
    "    cdef int i, j, k\n",
    "    cdef double tmp\n",
    "    with nogil:  # make compilation break if a \"call to python\" is made\n",
    "        for i in range(n_samples):  # we can still use range\n",
    "            for j in range(n_samples):\n",
    "                tmp = 0.\n",
    "                for k in range(n_features):\n",
    "                    tmp += (X[i, k] - X[j, k]) ** 2\n",
    "                D[i, j] = sqrt(tmp)\n",
    "    return np.asarray(D)"
   ]
  },
  {
   "cell_type": "code",
   "execution_count": null,
   "metadata": {},
   "outputs": [],
   "source": [
    "%timeit pairwise_cython(X)"
   ]
  },
  {
   "cell_type": "markdown",
   "metadata": {},
   "source": [
    "It's complicated to write, but it's fast!"
   ]
  },
  {
   "cell_type": "markdown",
   "metadata": {},
   "source": [
    "To summarize:\n",
    "    \n",
    "- numba: flexible, supports lots of functions, fast. Needs a compiler (shipped with conda)\n",
    "- numpy and its vectorized computations may be enough for simple computations\n",
    "- look for optimized functions in existing packages (s: usually fast, but you may not find what you need\n",
    "- cython: super powerful. Hard to write, hard to debug, hard to maintain. Easy to ship! And the price of compilation is payed offline, whereas numba, like Julia, has an overhead at the first call."
   ]
  },
  {
   "cell_type": "code",
   "execution_count": null,
   "metadata": {},
   "outputs": [],
   "source": []
  }
 ],
 "metadata": {
  "kernelspec": {
   "display_name": "Python 3",
   "language": "python",
   "name": "python3"
  },
  "language_info": {
   "codemirror_mode": {
    "name": "ipython",
    "version": 3
   },
   "file_extension": ".py",
   "mimetype": "text/x-python",
   "name": "python",
   "nbconvert_exporter": "python",
   "pygments_lexer": "ipython3",
   "version": "3.7.3"
  }
 },
 "nbformat": 4,
 "nbformat_minor": 4
}

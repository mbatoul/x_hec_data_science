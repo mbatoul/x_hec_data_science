{
 "cells": [
  {
   "cell_type": "markdown",
   "metadata": {},
   "source": [
    "# Python for Data Science - Lab 1"
   ]
  },
  {
   "cell_type": "markdown",
   "metadata": {},
   "source": [
    "## Introduction to Python, Numpy and Scipy"
   ]
  },
  {
   "cell_type": "markdown",
   "metadata": {},
   "source": [
    "### Setup"
   ]
  },
  {
   "cell_type": "code",
   "execution_count": 11,
   "metadata": {},
   "outputs": [],
   "source": [
    "import string\n",
    "import math\n",
    "import numpy as np"
   ]
  },
  {
   "cell_type": "markdown",
   "metadata": {},
   "source": [
    "### Question 1"
   ]
  },
  {
   "cell_type": "code",
   "execution_count": 2,
   "metadata": {},
   "outputs": [
    {
     "name": "stdout",
     "output_type": "stream",
     "text": [
      "cfilorux\n"
     ]
    }
   ],
   "source": [
    "result = string.ascii_lowercase[2:24:3]\n",
    "print(result)"
   ]
  },
  {
   "cell_type": "markdown",
   "metadata": {},
   "source": [
    "### Question 2"
   ]
  },
  {
   "cell_type": "code",
   "execution_count": 3,
   "metadata": {},
   "outputs": [
    {
     "name": "stdout",
     "output_type": "stream",
     "text": [
      "3.141592654\n"
     ]
    }
   ],
   "source": [
    "print(round(math.pi, 9))"
   ]
  },
  {
   "cell_type": "markdown",
   "metadata": {},
   "source": [
    "### Question 3"
   ]
  },
  {
   "cell_type": "code",
   "execution_count": 4,
   "metadata": {},
   "outputs": [
    {
     "name": "stdout",
     "output_type": "stream",
     "text": [
      "{'H': 1, 'e': 1, 'l': 1, 'L': 2, 'o': 2, ' ': 1, 'W': 1, 'r': 1, 'd': 1, '!': 2}\n"
     ]
    }
   ],
   "source": [
    "string = \"HelLo WorLd!!\"\n",
    "occurences = {}\n",
    "for letter in string:\n",
    "    if letter in occurences:\n",
    "        occurences[letter] += 1\n",
    "    else:\n",
    "        occurences[letter] = 1\n",
    "print(occurences)"
   ]
  },
  {
   "cell_type": "markdown",
   "metadata": {},
   "source": [
    "### Question 4"
   ]
  },
  {
   "cell_type": "code",
   "execution_count": 9,
   "metadata": {},
   "outputs": [
    {
     "name": "stdout",
     "output_type": "stream",
     "text": [
      "String: abcd - Expected: defg - Actual: defg\n",
      "\n",
      "String: mathis - Expected: pdwklv - Actual: pdwklv\n",
      "\n",
      "String: louis - Expected: orxlv - Actual: orxlv\n",
      "\n"
     ]
    }
   ],
   "source": [
    "KEY = 3\n",
    "\n",
    "def ceasarCipher(string):\n",
    "    return ''.join([cipher(letter) for letter in string])\n",
    "\n",
    "def cipher(letter):\n",
    "    code = ord(letter) + KEY\n",
    "    if code <= 122:\n",
    "        return chr(code)\n",
    "    else:\n",
    "        return chr(96 + code % 122)\n",
    "\n",
    "expectedResults = { 'abcd': 'defg', 'mathis': 'pdwklv', 'louis': 'orxlv' }\n",
    "for string, expected in expectedResults.items():\n",
    "    print('String: {} - Expected: {} - Actual: {}\\n'.format(string, expected, ceasarCipher(string)))"
   ]
  },
  {
   "cell_type": "markdown",
   "metadata": {},
   "source": [
    "### Question 5"
   ]
  },
  {
   "cell_type": "code",
   "execution_count": 17,
   "metadata": {},
   "outputs": [
    {
     "name": "stdout",
     "output_type": "stream",
     "text": [
      "Computation time using a loop:\n",
      "601 µs ± 14.6 µs per loop (mean ± std. dev. of 7 runs, 1000 loops each)\n",
      "Result obtained:\n",
      "3.140807746030402\n",
      "Computation time using a numpy:\n",
      "7.58 µs ± 135 ns per loop (mean ± std. dev. of 7 runs, 100000 loops each)\n",
      "Result obtained:\n",
      "3.140807746030402\n"
     ]
    }
   ],
   "source": [
    "N = 1000\n",
    "\n",
    "def compute_product_with_loop():\n",
    "    product = 2\n",
    "    for k in range(1, N + 1):\n",
    "        product *= ((4*k**2)/(4*k**2 - 1))\n",
    "    return product\n",
    "\n",
    "print('Computation time using a loop:')\n",
    "%timeit result = compute_product_with_loop()\n",
    "print('Result obtained:')\n",
    "print(result)\n",
    "\n",
    "print('Computation time using a numpy:')\n",
    "%timeit result = np.prod((4*k**2)/(4*k**2 - 1) for k in np.arange(N + 1))\n",
    "print('Result obtained:')\n",
    "print(result)"
   ]
  },
  {
   "cell_type": "markdown",
   "metadata": {},
   "source": [
    "### Question 6"
   ]
  },
  {
   "cell_type": "code",
   "execution_count": 7,
   "metadata": {},
   "outputs": [
    {
     "name": "stdout",
     "output_type": "stream",
     "text": [
      "[[1.76015224 0.         0.21988138]\n",
      " [0.         0.         1.59896406]\n",
      " [0.35653384 0.         0.68569692]\n",
      " [1.06834232 1.58014627 2.37731407]\n",
      " [1.04573504 0.         0.        ]]\n"
     ]
    }
   ],
   "source": [
    "M = np.random.uniform(low=-1, high=1, size=(5,6))\n",
    "M = np.subtract(M[:, 1::2], 2 * M[:, 0::2])\n",
    "M[M < 0] = 0\n",
    "print(M)"
   ]
  },
  {
   "cell_type": "markdown",
   "metadata": {},
   "source": [
    "### Question 7"
   ]
  },
  {
   "cell_type": "code",
   "execution_count": 8,
   "metadata": {},
   "outputs": [
    {
     "name": "stdout",
     "output_type": "stream",
     "text": [
      "The matrix G is symmetric.\n",
      "The matrix G is not positive definite and all its eigenvalues are not positive.\n",
      "The rank of G is 5.\n",
      "The Euclidian norm of G is 15.89.\n",
      "The L1 norm vector of the columns of G is [3.42689908 3.15057013 2.91877498 3.08846212 1.03321249 4.69693161\n",
      " 3.43704888 3.58450513 2.81160136 3.70782357 5.53879848 4.07426609\n",
      " 2.6623431  3.28188992 4.65176903 2.76467245 0.73787037 4.43177644\n",
      " 3.61970913 3.94215341].\n"
     ]
    }
   ],
   "source": [
    "def is_symmetric(matrix):\n",
    "    return np.allclose(matrix, matrix.T)\n",
    "\n",
    "def is_positive_definite(matrix):\n",
    "    return np.all(np.linalg.eigvals(matrix) > 0)\n",
    "ouais\n",
    "M = np.random.uniform(low=-1, high=1, size=(5, 20))\n",
    "G = np.matmul(M.T, M)\n",
    "\n",
    "if is_symmetric(G):\n",
    "    print('The matrix G is symmetric.')\n",
    "else:\n",
    "    print('The matrix G is not symmetric.')\n",
    "\n",
    "if is_positive_definite(G):\n",
    "    print('The matrix G is positive definite and all its eigenvalues are positive.')\n",
    "else:\n",
    "    print('The matrix G is not positive definite and all its eigenvalues are not positive.')\n",
    "\n",
    "print('The rank of G is {}.'.format(np.linalg.matrix_rank(G)))\n",
    "\n",
    "print('The Euclidian norm of G is {}.'.format(round(np.linalg.norm(G), 2)))\n",
    "\n",
    "print('The L1 norm vector of the columns of G is {}.'.format(np.linalg.norm(G, axis=1)))"
   ]
  },
  {
   "cell_type": "markdown",
   "metadata": {},
   "source": [
    "### Question 8"
   ]
  },
  {
   "cell_type": "code",
   "execution_count": 9,
   "metadata": {},
   "outputs": [
    {
     "name": "stdout",
     "output_type": "stream",
     "text": [
      "[1, 4, 9, 16, 25, 36, 49, 64, 81, 100, 121, 144, 169, 196, 225, 256, 289, 324, 361, 400, 441, 484, 529, 576, 625, 676, 729, 784, 841, 900, 961, 1024, 1089, 1156, 1225, 1296, 1369, 1444, 1521, 1600, 1681, 1764, 1849, 1936, 2025, 2116, 2209, 2304, 2401, 2500, 2601, 2704, 2809, 2916, 3025, 3136, 3249, 3364, 3481, 3600, 3721, 3844, 3969, 4096, 4225, 4356, 4489, 4624, 4761, 4900, 5041, 5184, 5329, 5476, 5625, 5776, 5929, 6084, 6241, 6400, 6561, 6724, 6889, 7056, 7225, 7396, 7569, 7744, 7921, 8100, 8281, 8464, 8649, 8836, 9025, 9216, 9409, 9604, 9801, 10000, 10201, 10404, 10609, 10816, 11025, 11236, 11449, 11664, 11881, 12100, 12321, 12544, 12769, 12996, 13225, 13456, 13689, 13924, 14161, 14400, 14641]\n",
      "[1, 4, 9, 16, 25, 36, 49, 64, 81, 100, 121, 144, 169, 196, 225, 256, 289, 324, 361, 400, 441, 484, 529, 576, 625, 676, 729, 784, 841, 900, 961, 1024, 1089, 1156, 1225, 1296, 1369, 1444, 1521, 1600, 1681, 1764, 1849, 1936, 2025, 2116, 2209, 2304, 2401, 2500, 2601, 2704, 2809, 2916, 3025, 3136, 3249, 3364, 3481, 3600, 3721, 3844, 3969, 4096, 4225, 4356, 4489, 4624, 4761, 4900, 5041, 5184, 5329, 5476, 5625, 5776, 5929, 6084, 6241, 6400, 6561, 6724, 6889, 7056, 7225, 7396, 7569, 7744, 7921, 8100, 8281, 8464, 8649, 8836, 9025, 9216, 9409, 9604, 9801, 10000, 10201, 10404, 10609, 10816, 11025, 11236, 11449, 11664, 11881, 12100, 12321, 12544, 12769, 12996, 13225, 13456, 13689, 13924, 14161, 14400, 14641]\n",
      "The results are equal.\n"
     ]
    }
   ],
   "source": [
    "result1 = [x**2 for x in range(1, 122)]\n",
    "print(result1)\n",
    "\n",
    "result2 = (np.array(range(1, 122))**2).tolist()\n",
    "print(result2)\n",
    "\n",
    "if result1 == result2:\n",
    "    print('The results are equal.')"
   ]
  },
  {
   "cell_type": "markdown",
   "metadata": {},
   "source": [
    "## Introduction to Pandas, Matplotlib, etc."
   ]
  },
  {
   "cell_type": "markdown",
   "metadata": {},
   "source": [
    "### Question 9"
   ]
  },
  {
   "cell_type": "code",
   "execution_count": 10,
   "metadata": {},
   "outputs": [],
   "source": [
    "from os import path\n",
    "import pandas as pd\n",
    "import urllib\n",
    "import zipfile\n",
    "import sys\n",
    "\n",
    "url = u'https://archive.ics.uci.edu/ml/machine-learning-databases/00235/'\n",
    "filename = 'household_power_consumption'\n",
    "zipfilename = filename + '.zip'\n",
    "Location = url + zipfilename\n",
    "\n",
    "if not(path.isfile('zipfilename')):\n",
    "    urllib.request.urlretrieve(Location, zipfilename)\n",
    "    \n",
    "zip = zipfile.ZipFile(zipfilename)\n",
    "zip.extractall()\n",
    "na_values = ['?', '']\n",
    "fields = ['Date', 'Time', 'Global_active_power']\n",
    "df = pd.read_csv(filename + '.txt', sep=';', nrows=200000, na_values=na_values, usecols=fields)"
   ]
  },
  {
   "cell_type": "markdown",
   "metadata": {},
   "source": [
    "### Question 10"
   ]
  },
  {
   "cell_type": "code",
   "execution_count": 11,
   "metadata": {},
   "outputs": [
    {
     "name": "stdout",
     "output_type": "stream",
     "text": [
      "There are 3732 missing values.\n"
     ]
    }
   ],
   "source": [
    "print('There are {} missing values.'.format(df.shape[0] - df.dropna().shape[0]))"
   ]
  },
  {
   "cell_type": "markdown",
   "metadata": {},
   "source": [
    "### Question 11"
   ]
  },
  {
   "cell_type": "code",
   "execution_count": 12,
   "metadata": {},
   "outputs": [
    {
     "name": "stdout",
     "output_type": "stream",
     "text": [
      "Missing values are dropped.\n"
     ]
    }
   ],
   "source": [
    "df = df.dropna()\n",
    "print('Missing values are dropped.')"
   ]
  },
  {
   "cell_type": "markdown",
   "metadata": {},
   "source": [
    "### Question 12"
   ]
  },
  {
   "cell_type": "code",
   "execution_count": 13,
   "metadata": {},
   "outputs": [],
   "source": [
    "df['Date'] = pd.to_datetime(df['Date'])\n",
    "time_series = df.set_index('Date')['Global_active_power']"
   ]
  },
  {
   "cell_type": "markdown",
   "metadata": {},
   "source": [
    "### Question 13"
   ]
  },
  {
   "cell_type": "code",
   "execution_count": 14,
   "metadata": {},
   "outputs": [
    {
     "data": {
      "text/plain": [
       "<matplotlib.axes._subplots.AxesSubplot at 0x126205860>"
      ]
     },
     "execution_count": 14,
     "metadata": {},
     "output_type": "execute_result"
    }
   ],
   "source": [
    "import matplotlib.pyplot as plt\n",
    "\n",
    "time_series2 = time_series['2007-01-01':'2007-04-30']\n",
    "time_series2.plot()"
   ]
  },
  {
   "cell_type": "markdown",
   "metadata": {},
   "source": [
    "### Question 14"
   ]
  },
  {
   "cell_type": "code",
   "execution_count": 15,
   "metadata": {},
   "outputs": [],
   "source": [
    "filename = 'TG_STAID011249'\n",
    "data = pd.read_csv(filename + '.txt', sep=\",\")\n",
    "data.columns = ['STAID', 'SOUID', 'DATE', 'TG', 'Q_TG']\n",
    "data = data[['DATE', 'TG']]\n",
    "data['TG'] = data['TG'] / 10"
   ]
  },
  {
   "cell_type": "markdown",
   "metadata": {},
   "source": [
    "### Question 15"
   ]
  },
  {
   "cell_type": "code",
   "execution_count": 16,
   "metadata": {},
   "outputs": [
    {
     "data": {
      "text/plain": [
       "<matplotlib.axes._subplots.AxesSubplot at 0x126e08978>"
      ]
     },
     "execution_count": 16,
     "metadata": {},
     "output_type": "execute_result"
    },
    {
     "data": {
      "image/png": "[encoded data removed]",
      "text/plain": [
       "<Figure size 432x288 with 1 Axes>"
      ]
     },
     "metadata": {
      "needs_background": "light"
     },
     "output_type": "display_data"
    }
   ],
   "source": [
    "data['DATE'] = pd.to_datetime(data['DATE'], format='%Y%m%d')\n",
    "ts = data.set_index('DATE')['TG']\n",
    "ts = ts['2007-01-01':'2007-04-30']\n",
    "ts.plot()"
   ]
  }
 ],
 "metadata": {
  "kernelspec": {
   "display_name": "Python 3",
   "language": "python",
   "name": "python3"
  },
  "language_info": {
   "codemirror_mode": {
    "name": "ipython",
    "version": 3
   },
   "file_extension": ".py",
   "mimetype": "text/x-python",
   "name": "python",
   "nbconvert_exporter": "python",
   "pygments_lexer": "ipython3",
   "version": "3.7.3"
  }
 },
 "nbformat": 4,
 "nbformat_minor": 2
}
